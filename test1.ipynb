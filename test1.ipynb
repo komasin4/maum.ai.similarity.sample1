{
 "cells": [
  {
   "cell_type": "code",
   "execution_count": 1,
   "metadata": {},
   "outputs": [],
   "source": [
    "from fuzzywuzzy import fuzz\n",
    "import os\n",
    "from dotenv import load_dotenv\n",
    "import streamlit as st\n",
    "import pandas as pd\n",
    "import numpy as np\n",
    "from openai import AzureOpenAI\n",
    "from Levenshtein import distance as levenshtein_distance\n",
    "from sklearn.feature_extraction.text import CountVectorizer\n",
    "from sklearn.metrics.pairwise import cosine_similarity\n",
    "from difflib import SequenceMatcher\n",
    "from streamlit.logger import get_logger\n",
    "from metaphone import doublemetaphone\n"
   ]
  },
  {
   "cell_type": "code",
   "execution_count": 2,
   "metadata": {},
   "outputs": [],
   "source": [
    "load_dotenv(verbose=True)\n",
    "\n",
    "logger = get_logger(__name__)"
   ]
  },
  {
   "cell_type": "code",
   "execution_count": 3,
   "metadata": {},
   "outputs": [],
   "source": [
    "def read_product_list(file_path):\n",
    "    try:\n",
    "        data = pd.read_csv(file_path)\n",
    "        # print(\"product list\", data)\n",
    "        return data\n",
    "    except Exception as e:\n",
    "        print(f\"파일을 읽는 중 오류가 발생했습니다: {e}\")\n",
    "        return None"
   ]
  },
  {
   "cell_type": "code",
   "execution_count": 5,
   "metadata": {},
   "outputs": [],
   "source": [
    "def extract_product_name(question):\n",
    " \n",
    "    client = AzureOpenAI(\n",
    "        api_key = os.getenv(\"AZURE_OPENAI_KEY\"),  \n",
    "        api_version = os.getenv(\"AZURE_OPENAI_API_VERSION\"),\n",
    "        azure_endpoint = os.getenv(\"AZURE_OPENAI_ENDPOINT\") \n",
    "    )\n",
    "    \n",
    "    try:\n",
    "        #response = openai.ChatCompletion.create(\n",
    "        response = client.chat.completions.create(\n",
    "            #model=\"gpt-3.5-turbo\",\n",
    "            model=\"gpt-4\",\n",
    "            messages=[\n",
    "                {\"role\": \"system\", \"content\": \"질문에서 제품명을 추출합니다.\"},\n",
    "                {\"role\": \"user\", \"content\": question}\n",
    "            ]\n",
    "        )\n",
    "        #product_name = response.choices[0].message['content'].strip()\n",
    "        product_name = response.choices[0].message.content.strip()\n",
    "        return product_name\n",
    "    except Exception as e:\n",
    "        print(f\"OpenAI GPT-3 요청 중 오류가 발생했습니다: {e}\")\n",
    "        return None"
   ]
  },
  {
   "cell_type": "code",
   "execution_count": 6,
   "metadata": {},
   "outputs": [],
   "source": [
    "def find_similar_products_sequence_matching(user_query, product_data):\n",
    "    \"\"\"\n",
    "    Sequence Matching 알고리즘을 이용하여 가장 유사한 제품을 찾는 함수.\n",
    "    \"\"\"\n",
    "    # 유사도 계산을 위한 함수 정의\n",
    "    def calculate_similarity(product_name):\n",
    "        # Sequence Matching 알고리즘을 사용하여 유사도 계산\n",
    "        return SequenceMatcher(None, user_query, product_name).ratio()\n",
    "\n",
    "    # 각 제품에 대해 유사도 계산\n",
    "    product_data['Similarity'] = product_data['제품명'].apply(\n",
    "        calculate_similarity)\n",
    "\n",
    "    # 유사도에 따라 제품들을 정렬\n",
    "    sorted_products = product_data.sort_values(\n",
    "        by='Similarity', ascending=False)\n",
    "\n",
    "    # 상위 3개 제품 반환\n",
    "    #return sorted_products.head(3).to_string(index=False)\n",
    "    return sorted_products.head(3)"
   ]
  },
  {
   "cell_type": "code",
   "execution_count": 7,
   "metadata": {},
   "outputs": [],
   "source": [
    "# 제품 목록 읽기\n",
    "#product_data = read_product_list(\"/Users/komasin4/Data/maum.ai/pulmuwon/prodlist_2.csv\")\n",
    "product_data = read_product_list(\"/Users/komasin4/Data/maum.ai/pulmuwon/mergelist_1.csv\")"
   ]
  },
  {
   "cell_type": "code",
   "execution_count": 8,
   "metadata": {},
   "outputs": [],
   "source": [
    "question = '제주 보리차는 얼마인가요?'\n"
   ]
  },
  {
   "cell_type": "code",
   "execution_count": 9,
   "metadata": {},
   "outputs": [
    {
     "name": "stdout",
     "output_type": "stream",
     "text": [
      "제품명은 제주 보리차입니다.\n"
     ]
    }
   ],
   "source": [
    "product_name = extract_product_name(question)\n",
    "print(product_name)"
   ]
  },
  {
   "cell_type": "code",
   "execution_count": 10,
   "metadata": {},
   "outputs": [
    {
     "name": "stdout",
     "output_type": "stream",
     "text": [
      "find_similar_products_sequence_matching     구분  NO 대분류          제품명  Similarity\n",
      "30  제품  31   -    THE순제주보리차    0.416667\n",
      "5   제품   6   -    THE순제주보리차    0.416667\n",
      "18  제품  19   -  우리쌀로 만든 오란다    0.230769\n"
     ]
    }
   ],
   "source": [
    "similar_products = find_similar_products_sequence_matching(product_name, product_data)\n",
    "print(\"find_similar_products_sequence_matching\", similar_products)\n",
    "\n"
   ]
  },
  {
   "cell_type": "code",
   "execution_count": 28,
   "metadata": {},
   "outputs": [
    {
     "name": "stdout",
     "output_type": "stream",
     "text": [
      "<class 'pandas.core.frame.DataFrame'>\n",
      "30 제품 31 - THE순제주보리차 0.4166666666666667\n",
      "5 제품 6 - THE순제주보리차 0.4166666666666667\n",
      "18 제품 19 - 우리쌀로 만든 오란다 0.23076923076923078\n",
      "            제품명\n",
      "30    THE순제주보리차\n",
      "5     THE순제주보리차\n",
      "18  우리쌀로 만든 오란다\n",
      "'THE순제주보리차','THE순제주보리차','우리쌀로 만든 오란다'\n"
     ]
    }
   ],
   "source": [
    "print(similar_products.__class__)\n",
    "\n",
    "for index, row in similar_products.iterrows():\n",
    "    #print(row)\n",
    "    print(index, row['구분'], row['NO'], row.대분류, row.제품명, row.Similarity)\n",
    "    \n",
    "print(similar_products[['제품명']])\n",
    "\n",
    "al = ','.join(map(\"'{}'\".format, similar_products['제품명']))\n",
    "\n",
    "print(al)"
   ]
  }
 ],
 "metadata": {
  "kernelspec": {
   "display_name": "ai.test",
   "language": "python",
   "name": "python3"
  },
  "language_info": {
   "codemirror_mode": {
    "name": "ipython",
    "version": 3
   },
   "file_extension": ".py",
   "mimetype": "text/x-python",
   "name": "python",
   "nbconvert_exporter": "python",
   "pygments_lexer": "ipython3",
   "version": "3.10.13"
  }
 },
 "nbformat": 4,
 "nbformat_minor": 2
}
